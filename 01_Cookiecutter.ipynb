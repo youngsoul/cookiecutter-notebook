{
 "cells": [
  {
   "cell_type": "markdown",
   "metadata": {},
   "source": [
    "# Cookiecutter\n",
    "\n",
    "![Logo](images/cc-logo.png)\n",
    "\n",
    "\n",
    "## Creating starter projects with Cookiecutter\n",
    "\n",
    "\n",
    "### Sections\n",
    "\n",
    "- System Setup\n",
    "- Getting Started\n",
    "    - Browse existing Cookiecutter templates\n",
    "    - Examples from the pantry\n",
    "        - Running remote (Github) Cookiecutter template\n",
    "    - Create a project\n",
    "    - Local cookiecutter templates\n",
    "    - Running a cookiecutter template\n",
    "\n"
   ]
  },
  {
   "cell_type": "markdown",
   "metadata": {},
   "source": [
    "# System Setup\n",
    "\n",
    "Assuming that you have python3 installed, the only package you need is *cookiecutter*.\n",
    "\n",
    "You can either install cookiecutter into your global python3 environment or create a virtual environment.  I typically create a virtual environment so the recommeded commands for setup look like:\n",
    "\n",
    "- cd < to where you like to keep your virtual environments>\n",
    "- python3 -m venv cookiecutter-venv\n",
    "- source cookiecutter-venv/bin/activate\n",
    "\n",
    "\n",
    "To test that this worked, from the command line type:\n",
    "\n",
    "*cookiecutter --help*\n",
    "\n",
    "And you should see help output.\n"
   ]
  },
  {
   "cell_type": "code",
   "execution_count": 1,
   "metadata": {},
   "outputs": [
    {
     "name": "stdout",
     "output_type": "stream",
     "text": [
      "Usage: cookiecutter [OPTIONS] TEMPLATE [EXTRA_CONTEXT]...\r\n",
      "\r\n",
      "  Create a project from a Cookiecutter project template (TEMPLATE).\r\n",
      "\r\n",
      "  Cookiecutter is free and open source software, developed and managed by\r\n",
      "  volunteers. If you would like to help out or fund the project, please get\r\n",
      "  in touch at https://github.com/audreyr/cookiecutter.\r\n",
      "\r\n",
      "Options:\r\n",
      "  -V, --version              Show the version and exit.\r\n",
      "  --no-input                 Do not prompt for parameters and only use\r\n",
      "                             cookiecutter.json file content\r\n",
      "  -c, --checkout TEXT        branch, tag or commit to checkout after git clone\r\n",
      "  -v, --verbose              Print debug information\r\n",
      "  --replay                   Do not prompt for parameters and only use\r\n",
      "                             information entered previously\r\n",
      "  -f, --overwrite-if-exists  Overwrite the contents of the output directory if\r\n",
      "                             it already exists\r\n",
      "  -o, --output-dir PATH      Where to output the generated project dir into\r\n",
      "  --config-file PATH         User configuration file\r\n",
      "  --default-config           Do not load a config file. Use the defaults\r\n",
      "                             instead\r\n",
      "  --debug-file PATH          File to be used as a stream for DEBUG logging\r\n",
      "  -h, --help                 Show this message and exit.\r\n"
     ]
    }
   ],
   "source": [
    "!cookiecutter --help"
   ]
  },
  {
   "cell_type": "markdown",
   "metadata": {},
   "source": [
    "# Browsing existing Cookiecutter templates\n",
    "\n",
    "[Cookiecutter readthedocs](https://cookiecutter.readthedocs.io)\n",
    "\n",
    "\n",
    "![A Pantry Full of Cookiecutters](images/cc-readthedocs.png)\n",
    "\n",
    "\n",
    "Select the *Pantry Full of Cookiecutters* link, to get a list of Cookiecutter templates.  Keep in mind, these are only the ones that people have requested be added to the formal documentation.  You can go to Github / Bitbucket and search for *cookiecutter*.  There are number of templates that people have created that they just did not submit a PR for in the documentation.\n",
    "\n",
    "\n",
    "### Partial Pantry Listing\n",
    "\n",
    "![Pantry Listing](images/cc-pantry.png)\n",
    "\n"
   ]
  },
  {
   "cell_type": "markdown",
   "metadata": {},
   "source": [
    "## Cookiecutter Bottle\n",
    "\n",
    "This template creates a Bottle project quickly.  Bottle is a micro-webframework.\n",
    "\n",
    "[Github Cookiecutter Bottle](https://github.com/avelino/cookiecutter-bottle)\n",
    "\n",
    "![Github Cookiecutter Bottle](images/cc-github-bottle.png)\n",
    "\n",
    "\n",
    "You can tell it is a cookiecutter template project because of the *{{ and }}* which is Jinja2 syntax.\n",
    "\n",
    "Inside the *{{cookiecutter.app_name}}* directory are the files for the project and the *cookiecutter.json* file is the configuration that drives the cookiecutter application.\n",
    "\n",
    "### Create the bottle project from Github template\n",
    "\n",
    "General form is:\n",
    "\n",
    "*cookiecutter **(github repo url)** *\n",
    "\n",
    "for example,\n",
    "\n",
    "*cookiecutter https://github.com/avelino/cookiecutter-bottle*\n",
    "\n",
    "Cookiecutter will actually perform a **git clone** the remote repo into a home/.cookiecutters directory.\n",
    "\n",
    "Open a new terminal window and source the cookiecutter environment"
   ]
  },
  {
   "cell_type": "code",
   "execution_count": 32,
   "metadata": {},
   "outputs": [
    {
     "name": "stdout",
     "output_type": "stream",
     "text": [
      "cd /Users/patryan/Development/mygithub/cookiecutter_notebook\n",
      "source venv/bin/activate\n",
      "cd projects\n",
      "cookiecutter https://github.com/avelino/cookiecutter-bottle\n"
     ]
    }
   ],
   "source": [
    "!open -a iTerm.app\n",
    "my_cwd = !pwd\n",
    "print(f'cd {my_cwd[0]}/projects')\n",
    "print('source ../venv/bin/activate') # sets up the cookiecutter virtual environment\n",
    "print('cookiecutter https://github.com/avelino/cookiecutter-bottle')"
   ]
  },
  {
   "cell_type": "markdown",
   "metadata": {},
   "source": [
    "This will create a new project from the cookiecutter-bottle template.  The template will ask a number of questions such as:\n",
    "\n",
    "![Bottle Create](images/cc-bottle-create.png)\n",
    "\n",
    "**NOTE**: All values in the square brackets are default values."
   ]
  },
  {
   "cell_type": "markdown",
   "metadata": {},
   "source": [
    "This new project has no virtual environment and does not have any git repo associated with it.  It is just a local project.\n",
    "\n",
    "This template asks for:\n",
    "\n",
    "- full_name\n",
    "- project_name\n",
    "- app_name\n",
    "- project_short_description\n",
    "\n",
    "The author of the template has provided default values with their information ( dubious choice for a public template ).\n",
    "\n",
    "Below is the resulting project structure.  You can see that it setup the structure and a number of starter files to get you started quickly."
   ]
  },
  {
   "cell_type": "markdown",
   "metadata": {},
   "source": [
    "![Bottle Project Tree](images/cc-bottle-tree.png)"
   ]
  },
  {
   "cell_type": "markdown",
   "metadata": {},
   "source": [
    "To setup the new project we have to create a new virtual env for the project, install the \n",
    "requirements and according to the README.rst, execute:\n",
    "\n",
    "*python manage.py runserver*"
   ]
  },
  {
   "cell_type": "code",
   "execution_count": 31,
   "metadata": {},
   "outputs": [
    {
     "name": "stdout",
     "output_type": "stream",
     "text": [
      "cd /Users/patryan/Development/mygithub/cookiecutter_notebook/projects/chipy_bottle_app\n",
      "python3 -m venv venv\n",
      "source venv/bin/activate\n",
      "pip install -r requirements.txt\n",
      "python manage.py runserver\n"
     ]
    }
   ],
   "source": [
    "print(f'cd {my_cwd[0]}/projects/chipy_bottle_app')\n",
    "print('python3 -m venv venv')\n",
    "print('source venv/bin/activate')\n",
    "print('pip install -r requirements.txt')\n",
    "print('python manage.py runserver')"
   ]
  },
  {
   "cell_type": "markdown",
   "metadata": {},
   "source": [
    "## Local Cookiecutters\n",
    "\n",
    "Once you have downloaded the remote Cookiecutter template, you can create new templates using just the template name.  For example:\n",
    "\n",
    "*cookiecutter cookiecutter-bottle*\n",
    "\n",
    "All downloaded cookiecutter templates are stored in the users home directory in a *.cookiecutters* directory "
   ]
  }
 ],
 "metadata": {
  "kernelspec": {
   "display_name": "Python 3",
   "language": "python",
   "name": "python3"
  },
  "language_info": {
   "codemirror_mode": {
    "name": "ipython",
    "version": 3
   },
   "file_extension": ".py",
   "mimetype": "text/x-python",
   "name": "python",
   "nbconvert_exporter": "python",
   "pygments_lexer": "ipython3",
   "version": "3.6.1"
  }
 },
 "nbformat": 4,
 "nbformat_minor": 2
}
