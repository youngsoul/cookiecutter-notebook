{
 "cells": [
  {
   "cell_type": "markdown",
   "metadata": {},
   "source": [
    "# Cookiecutter\n",
    "\n",
    "![Logo](images/cc-logo.png)\n",
    "\n",
    "\n",
    "## Advanced Cookiecutter Template Generation\n",
    "\n",
    "This notebook looks at some of the advanced techniques and capabilties of Cookiecutter"
   ]
  },
  {
   "cell_type": "markdown",
   "metadata": {},
   "source": [
    "## Cookiecutter-template\n",
    "\n",
    "Lets look at the cookiecutter template for creating cookiecutter template from the previous notebook.\n",
    "\n",
    "![CC Template Config](images/cc-cc-template-config.png)\n",
    "\n",
    "Notice that we can include Jinja2 processing directives to create the configuration parameter default values, such as in the ***project_slug*** and ***release_date*** properties."
   ]
  },
  {
   "cell_type": "markdown",
   "metadata": {},
   "source": [
    "## Required Values\n",
    "\n",
    "this will require a pre-hook\n",
    "\n",
    "TODO: show the pipeline:\n",
    "\n",
    "gather input -> run prehooks -> run template -> run posthook\n"
   ]
  },
  {
   "cell_type": "markdown",
   "metadata": {},
   "source": [
    "## Choice Values"
   ]
  }
 ],
 "metadata": {
  "kernelspec": {
   "display_name": "Python 3",
   "language": "python",
   "name": "python3"
  },
  "language_info": {
   "codemirror_mode": {
    "name": "ipython",
    "version": 3
   },
   "file_extension": ".py",
   "mimetype": "text/x-python",
   "name": "python",
   "nbconvert_exporter": "python",
   "pygments_lexer": "ipython3",
   "version": "3.6.1"
  }
 },
 "nbformat": 4,
 "nbformat_minor": 2
}
