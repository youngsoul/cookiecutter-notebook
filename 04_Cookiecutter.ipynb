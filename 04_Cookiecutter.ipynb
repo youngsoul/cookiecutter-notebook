{
 "cells": [
  {
   "cell_type": "markdown",
   "metadata": {},
   "source": [
    "# Cookiecutter\n",
    "\n",
    "![Logo](images/cc-logo.png)\n",
    "\n",
    "\n",
    "## Advanced Cookiecutter Template Generation\n",
    "\n",
    "This notebook looks at some of the advanced techniques and capabilties of Cookiecutter"
   ]
  },
  {
   "cell_type": "markdown",
   "metadata": {},
   "source": [
    "## Cookiecutter-template\n",
    "\n",
    "Lets look at the cookiecutter template for creating cookiecutter template from the previous notebook.\n",
    "\n",
    "![CC Template Config](images/cc-cc-template-config.png)\n",
    "\n",
    "Notice that we can include Jinja2 processing directives to create the configuration parameter default values, such as in the ***project_slug*** and ***release_date*** properties."
   ]
  },
  {
   "cell_type": "markdown",
   "metadata": {},
   "source": [
    "## Required Values\n",
    "\n",
    "this will require a pre-hook\n",
    "\n",
    "see below"
   ]
  },
  {
   "cell_type": "markdown",
   "metadata": {},
   "source": [
    "## Choice Values\n",
    "\n",
    "Add a key with a list of strings.\n",
    "\n",
    "For Example,\n",
    "\n",
    "```python\n",
    "\"favorite_language\": [\"python\", \"java\", \"javascript\", \"ruby\"]\n",
    "```\n",
    "\n",
    "This will present a list to the user and they can select one of the values.  The default value is the first one in the list.\n",
    "\n",
    "![Choice Values](images/cc-multiple-values.png)"
   ]
  },
  {
   "cell_type": "markdown",
   "metadata": {},
   "source": [
    "## Template Extensions\n",
    "\n",
    "Add libraries to extend the cookiecutter capability.\n",
    "\n",
    "This is done with Jinja2 [extensions](http://jinja.pocoo.org/docs/2.10/extensions/)\n",
    "\n",
    "To use these extensions, you have to install the Jinja2 extension into the virtual environment that has the cookiecutter package installed.\n",
    "\n",
    "### Jinja2 Time Extension\n",
    "*pip install jinja2-time*\n",
    "\n",
    "From above, notice the *\"_extensions\"* key in the cookiecutter.json configuration file.  This is how we make these extensions available to cookiecutter templates.\n",
    "\n",
    "*\"_extentions\": [\"jinja2_time.TimeExtension\"]*\n",
    "\n",
    "This allows for configuration syntax like:\n",
    "\n",
    "*\"release_date\":\"{% now 'local' %}\"*\n",
    "\n",
    "where *now* comes from the Jinja2 TimeExtension\n"
   ]
  },
  {
   "cell_type": "markdown",
   "metadata": {},
   "source": [
    "## Copy files without modifying the files\n",
    "\n",
    "### _copy_without_render\n",
    "\n",
    "Add to cookiecutter.json a key called *_copy_without_render* with a list value.  The lists holds directories and files that should be copied without being rendered.\n",
    "\n",
    "For example:\n",
    "\n",
    "```python\n",
    "\"_copy_without_render\": [\n",
    "    \"static/*\",\n",
    "    \"dev_notes.txt\",\n",
    "    \"{{cookiecutter.do_not_process}}\"\n",
    "]   \n",
    "```\n"
   ]
  },
  {
   "cell_type": "markdown",
   "metadata": {},
   "source": [
    "## Hooks\n",
    "\n",
    "### Workflow\n",
    "\n",
    "1) Ask all of the prompts\n",
    "\n",
    "2) Run the pre hooks\n",
    "\n",
    "3) Copy the cookiecutter project template and copy files to create new project\n",
    "\n",
    "4) Run the post hooks\n",
    "\n",
    "At the top level of the cookiecutter project, not inside the '{{ cookiecutter.project_name }}' directory, add a directory called **hooks**\n",
    "\n",
    "### PreHooks\n",
    "\n",
    "Add a file called, **pre_gen_project.py** which contains a python script that is run before cookiecutter copies and processes files from the template directory.\n",
    "\n",
    "Typically used to validate the supplied input.\n",
    "\n",
    "### PostHooks\n",
    "\n",
    "Add a file called, **post_gen_project.py** which contains a python script that is run after cookiecutter copies and processes files form the tempmlate directory.\n",
    "\n",
    "Typically used to provide instructions or perform some post processing based on values such as removing certain files.\n",
    "\n",
    "The project template directory looks like:"
   ]
  },
  {
   "cell_type": "code",
   "execution_count": 8,
   "metadata": {},
   "outputs": [
    {
     "name": "stdout",
     "output_type": "stream",
     "text": [
      "[Errno 2] No such file or directory: 'templates/cookiecutter-simple-template'\n",
      ".\r\n",
      "├── cookiecutter.json\r\n",
      "├── hooks\r\n",
      "│   ├── post_gen_project.py\r\n",
      "│   └── pre_gen_project.py\r\n",
      "└── {{cookiecutter.project_name}}\r\n",
      "    ├── programming_language.txt\r\n",
      "    ├── readme.md\r\n",
      "    └── {{cookiecutter.project_name}}.txt\r\n",
      "\r\n",
      "2 directories, 6 files\r\n"
     ]
    }
   ],
   "source": [
    "%cd -q templates/cookiecutter-simple-template\n",
    "!tree"
   ]
  },
  {
   "cell_type": "code",
   "execution_count": 9,
   "metadata": {},
   "outputs": [
    {
     "name": "stdout",
     "output_type": "stream",
     "text": [
      "def pre_hooks():\r\n",
      "    print(\"********** PRE GEN HOOK RUNNING ********\")\r\n",
      "\r\n",
      "\r\n",
      "if __name__ == '__main__':\r\n",
      "    pre_hooks()"
     ]
    }
   ],
   "source": [
    "!cat hooks/pre_gen_project.py"
   ]
  },
  {
   "cell_type": "code",
   "execution_count": 10,
   "metadata": {},
   "outputs": [
    {
     "name": "stdout",
     "output_type": "stream",
     "text": [
      "\r\n",
      "def post_hooks():\r\n",
      "    print(\"********** POST GEN HOOK RUNNING ********\")\r\n",
      "\r\n",
      "\r\n",
      "if __name__ == '__main__':\r\n",
      "    post_hooks()"
     ]
    }
   ],
   "source": [
    "!cat hooks/post_gen_project.py"
   ]
  },
  {
   "cell_type": "markdown",
   "metadata": {},
   "source": [
    "Create a new Simple Template project with the hooks.  The output looks like:\n",
    "\n",
    "![Simple Template Hooks](images/cc-hooks.png)"
   ]
  },
  {
   "cell_type": "markdown",
   "metadata": {},
   "source": [
    "### Accessing prompt values in the hook scripts\n",
    "\n",
    "You can access the values that the user was prompted for by creating a Jinja2 expression in the hook script.\n",
    "\n",
    "For example:\n",
    "\n",
    "```python\n",
    "def my_hook_script():\n",
    "    creator = '{{cookiecutter.creator}}'\n",
    "\n",
    "    if not creator.strip():\n",
    "        print('Error:  You must provide a creator value')\n",
    "        sys.exit(1) # to exit and stop the template generation exit with a non-zero value.\n",
    "```\n"
   ]
  },
  {
   "cell_type": "code",
   "execution_count": 12,
   "metadata": {},
   "outputs": [
    {
     "name": "stdout",
     "output_type": "stream",
     "text": [
      "/Users/youngsoul/Documents/Development/PythonDev/cookiecutter-notebook\n"
     ]
    }
   ],
   "source": [
    "%cd ../.."
   ]
  }
 ],
 "metadata": {
  "kernelspec": {
   "display_name": "Python 3",
   "language": "python",
   "name": "python3"
  },
  "language_info": {
   "codemirror_mode": {
    "name": "ipython",
    "version": 3
   },
   "file_extension": ".py",
   "mimetype": "text/x-python",
   "name": "python",
   "nbconvert_exporter": "python",
   "pygments_lexer": "ipython3",
   "version": "3.6.1"
  }
 },
 "nbformat": 4,
 "nbformat_minor": 2
}
