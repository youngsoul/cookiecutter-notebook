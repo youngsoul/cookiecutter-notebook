{
 "cells": [
  {
   "cell_type": "markdown",
   "metadata": {},
   "source": [
    "# Cookiecutter\n",
    "\n",
    "![Logo](images/cc-logo.png)\n",
    "\n",
    "## Setting up default values"
   ]
  },
  {
   "cell_type": "markdown",
   "metadata": {},
   "source": [
    "Create a YAML file in the home/.cookiecutters directory but it actually could go anywhere.\n",
    "\n",
    "The name of the file does not matter at this point.\n",
    "\n",
    "Cookiecutter default values YAML file format:\n",
    "\n",
    "```yaml\n",
    "default_context:\n",
    "  full_name: 'Patrick Ryan'\n",
    "  fullName: 'Patrick Ryan'\n",
    "  email: 'test@example.com\n",
    "  github_username: 'youngsoul'\n",
    "abbreviations:\n",
    "  gh: https://github.com/{0}.git\n",
    "  bb: https://bitbucket.org/{0}\n",
    "```\n",
    "\n",
    "To execute cookiecutter with the default configuration:\n",
    "\n",
    "**cookiecutter cookiecutter-bottle --config-file ~/.cookiecutters/default-pryan.yaml**\n",
    "\n",
    "The abbreviations section allows for options like:\n",
    "\n",
    "*cookiecutter gh:avelino/cookiecutter-bottle*"
   ]
  },
  {
   "cell_type": "markdown",
   "metadata": {},
   "source": [
    "To have cookiecutter use the defaults file without having to specify the config-file option, setup an environment variable for your operating system that looks like:\n",
    "\n",
    "**export COOKIECUTTER_CONFIG=/Users/patryan/.cookiecutters/defaults-pryan.yaml**\n",
    "\n",
    "\n",
    "Again - to ignore the COOKIECUTTER_CONFIG environment variable, run cookiecutter with *--default-config*\n"
   ]
  },
  {
   "cell_type": "markdown",
   "metadata": {},
   "source": [
    "## Temporary Override\n",
    "\n",
    "If you need to override some of the default values from the config file, you can specify the YAML key/value on the command line:\n",
    "\n",
    "*cookiecutter cookiecutter-bottle app_name=the_new_bottle project_name=\"The New Bottle\"*"
   ]
  },
  {
   "cell_type": "markdown",
   "metadata": {},
   "source": [
    "## Replay previous input\n",
    "\n",
    "All of the latest runs from the cookiecutter templates can be found in:\n",
    "\n",
    "**~/.cookiecutter_replay**\n",
    "\n",
    "and to re-run with the last set of inputs add the *--replay* parameter\n",
    "\n",
    "**cookiecutter cookiecutter-bottle --replay**\n"
   ]
  }
 ],
 "metadata": {
  "kernelspec": {
   "display_name": "Python 3",
   "language": "python",
   "name": "python3"
  },
  "language_info": {
   "codemirror_mode": {
    "name": "ipython",
    "version": 3
   },
   "file_extension": ".py",
   "mimetype": "text/x-python",
   "name": "python",
   "nbconvert_exporter": "python",
   "pygments_lexer": "ipython3",
   "version": "3.6.3"
  }
 },
 "nbformat": 4,
 "nbformat_minor": 2
}
