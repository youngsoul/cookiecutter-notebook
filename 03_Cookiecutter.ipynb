{
 "cells": [
  {
   "cell_type": "markdown",
   "metadata": {},
   "source": [
    "# Cookiecutter\n",
    "\n",
    "![Logo](images/cc-logo.png)\n",
    "\n",
    "\n",
    "## Creating Cookiecutter templates\n",
    "\n",
    "This notebook describes how to create your own templates to use with cookiecutter\n",
    "\n"
   ]
  },
  {
   "cell_type": "markdown",
   "metadata": {},
   "source": [
    "## Project Folder Structure\n",
    "\n",
    "![Project Structure](images/cc-project-structure.png)"
   ]
  },
  {
   "cell_type": "markdown",
   "metadata": {},
   "source": [
    "## Simple Template Example\n",
    "\n",
    "This example creates a template project with simple substitution of values in the configuration file with place holders in the files of the project.\n",
    "\n",
    "\n",
    "Create a directory with naming convention:\n",
    "\n",
    "*cookiecutter*-your-project-name\n",
    "\n",
    "that at a minimum has the following:\n",
    "\n",
    "- cookiecutter.json configuration file for prompts and default values\n",
    "- directory of the form '{{cookiecutter.project_name}}'\n",
    "\n",
    "The directory. **MUST** start with {{ and end with }}.  The contents between with the braces **MUST** start with *cookiecutter* but what follows is up to the template designer.  The string after the '.' is a variable that will be defined in *cookiecutter.json* and the user will be prompted for a value. \n",
    "\n",
    "To be clear, the *'project_name'* portion can be anything that makes sense for your template."
   ]
  },
  {
   "cell_type": "code",
   "execution_count": 1,
   "metadata": {},
   "outputs": [
    {
     "name": "stdout",
     "output_type": "stream",
     "text": [
      "/Users/patryan/Development/mygithub/cookiecutter_notebook/templates/cookiecutter-simple-template\n"
     ]
    }
   ],
   "source": [
    "%cd templates/cookiecutter-simple-template"
   ]
  },
  {
   "cell_type": "code",
   "execution_count": 2,
   "metadata": {},
   "outputs": [
    {
     "name": "stdout",
     "output_type": "stream",
     "text": [
      ".\r\n",
      "├── cookiecutter.json\r\n",
      "└── {{cookiecutter.project_name}}\r\n",
      "    ├── programming_language.txt\r\n",
      "    ├── readme.md\r\n",
      "    └── {{cookiecutter.project_name}}.txt\r\n",
      "\r\n",
      "1 directory, 4 files\r\n"
     ]
    }
   ],
   "source": [
    "!tree"
   ]
  },
  {
   "cell_type": "markdown",
   "metadata": {},
   "source": [
    "### cookiecutter-simple-template directory\n",
    "\n",
    "Inside the template directory there is the cookiecutter.json file the project template directory.\n",
    "\n",
    "The project template directory has 3 files that make up the project.  One of the file names is dynamically created based on the project name given by the user of the template."
   ]
  },
  {
   "cell_type": "markdown",
   "metadata": {},
   "source": [
    "#### cookiecutter.json\n",
    "\n",
    "Looking at the contents of the cookiecutter.json configuration file there are 3 variables defined:\n",
    "\n",
    "- project_name\n",
    "- creator\n",
    "- favorite_language"
   ]
  },
  {
   "cell_type": "code",
   "execution_count": 3,
   "metadata": {},
   "outputs": [
    {
     "name": "stdout",
     "output_type": "stream",
     "text": [
      "{\r\n",
      "  \"project_name\":\"Simple Template\",\r\n",
      "  \"creator\": \"Your Name Here\",\r\n",
      "  \"favorite_language\": \"python\"\r\n",
      "}"
     ]
    }
   ],
   "source": [
    "!cat cookiecutter.json"
   ]
  },
  {
   "cell_type": "markdown",
   "metadata": {},
   "source": [
    "#### {{cookiecutter.project_name}} directory\n",
    "\n",
    "The directory name is dynamic based on the input value for the *project_name* variable.\n",
    "\n",
    "This directory has 3 files as part of the template project:\n",
    "\n",
    "- programming_language.txt\n",
    "- readme.md\n",
    "- {{cookiecutter.project_name}}.txt\n",
    "\n"
   ]
  },
  {
   "cell_type": "markdown",
   "metadata": {},
   "source": [
    "#### programming_language.txt\n",
    "Looking at the content of hte programming_language.txt file you can that it uses the value of the *favorite_language* variable"
   ]
  },
  {
   "cell_type": "code",
   "execution_count": 4,
   "metadata": {},
   "outputs": [
    {
     "name": "stdout",
     "output_type": "stream",
     "text": [
      "{{cookiecutter.favorite_language}} Rocks!"
     ]
    }
   ],
   "source": [
    "!cat {\\{cookiecutter.project_name}\\}/programming_language.txt"
   ]
  },
  {
   "cell_type": "markdown",
   "metadata": {},
   "source": [
    "#### readme.md\n",
    "\n",
    "markdown file that uses two of the variables defined in the configuration file, *project_name* and *favorite_language*"
   ]
  },
  {
   "cell_type": "code",
   "execution_count": 5,
   "metadata": {},
   "outputs": [
    {
     "name": "stdout",
     "output_type": "stream",
     "text": [
      "# Simple Template Project\r\n",
      "\r\n",
      "## Project: {{cookiecutter.project_name}}\r\n",
      "\r\n",
      "Favorite Language:\r\n",
      "\r\n",
      "- {{cookiecutter.favorite_language}}\r\n",
      "\r\n"
     ]
    }
   ],
   "source": [
    "!cat {\\{cookiecutter.project_name}\\}/readme.md"
   ]
  },
  {
   "cell_type": "markdown",
   "metadata": {},
   "source": [
    "#### {{cookiecutter.project_name}}.txt \n",
    "\n",
    "This file is dynamically named and also uses two of the variables."
   ]
  },
  {
   "cell_type": "code",
   "execution_count": 6,
   "metadata": {},
   "outputs": [
    {
     "name": "stdout",
     "output_type": "stream",
     "text": [
      "Simple Template Project:\r\n",
      "This project will demonstrate how to create a simple file based template with simple\r\n",
      "configuration file substitutions.\r\n",
      "\r\n",
      "Project: {{cookiecutter.project_name}}\r\n",
      "\r\n",
      "Creator: {{cookiecutter.creator}}\r\n",
      "\r\n"
     ]
    }
   ],
   "source": [
    "!cat {\\{cookiecutter.project_name}\\}/{{cookiecutter.project_name}}.txt"
   ]
  },
  {
   "cell_type": "code",
   "execution_count": 7,
   "metadata": {},
   "outputs": [
    {
     "name": "stdout",
     "output_type": "stream",
     "text": [
      "Directory of the cookiecutter template:\n",
      "/Users/patryan/Development/mygithub/cookiecutter_notebook/templates/cookiecutter-simple-template\n"
     ]
    }
   ],
   "source": [
    "print('Directory of the cookiecutter template:')\n",
    "template_dir = !pwd\n",
    "print(template_dir[0])"
   ]
  },
  {
   "cell_type": "markdown",
   "metadata": {},
   "source": [
    "### Execute the cookiecutter template\n",
    "\n",
    "- Open a terminal window\n",
    "- source the cookiecutter virtual environment\n",
    "- cd to the projects directory\n",
    "- cookiecutter (**directory of the template**)"
   ]
  },
  {
   "cell_type": "code",
   "execution_count": 8,
   "metadata": {},
   "outputs": [
    {
     "name": "stdout",
     "output_type": "stream",
     "text": [
      "cd /Users/patryan/Development/mygithub/cookiecutter_notebook/projects\n",
      "source ../venv/bin/activate\n",
      "cookiecutter /Users/patryan/Development/mygithub/cookiecutter_notebook/templates/cookiecutter-simple-template\n"
     ]
    }
   ],
   "source": [
    "%cd -q ../..\n",
    "my_cwd = !pwd\n",
    "print(f'cd {my_cwd[0]}/projects')\n",
    "print('source ../venv/bin/activate') # sets up the cookiecutter virtual environment\n",
    "print(f'cookiecutter {template_dir[0]}')\n",
    "!open -a iTerm.app"
   ]
  },
  {
   "cell_type": "markdown",
   "metadata": {},
   "source": [
    "# Cookiecutter Template for Cookiecutter Templates\n",
    "\n",
    "Cookiecutter has a template to create cookiecutter templates.\n",
    "\n",
    "* **https://github.com/eviweb/cookiecutter-template** *\n",
    "\n",
    "execute:\n",
    "\n",
    "*cookiecutter https://github.com/eviweb/cookiecutter-template*\n",
    "\n",
    "Or if you setup your YAML configuration file with the abbreviations\n",
    "\n",
    "*cookiecutter gh:eviweb/cookiecutter-template*\n",
    "\n",
    "#### Execution output\n",
    "\n",
    "![Cookie Cutter Template Output](images/cc-cc-template.png)\n",
    "\n",
    "#### Generated Template Contents\n",
    "\n",
    "![Generated Contents](images/cc-cc-template-contents.png)"
   ]
  }
 ],
 "metadata": {
  "kernelspec": {
   "display_name": "Python 3",
   "language": "python",
   "name": "python3"
  },
  "language_info": {
   "codemirror_mode": {
    "name": "ipython",
    "version": 3
   },
   "file_extension": ".py",
   "mimetype": "text/x-python",
   "name": "python",
   "nbconvert_exporter": "python",
   "pygments_lexer": "ipython3",
   "version": "3.6.3"
  }
 },
 "nbformat": 4,
 "nbformat_minor": 2
}
